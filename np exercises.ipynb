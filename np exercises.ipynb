{
 "cells": [
  {
   "cell_type": "code",
   "execution_count": 3,
   "id": "9b4fe0ea-8d51-4e53-83a2-cf52f53276ea",
   "metadata": {},
   "outputs": [
    {
     "name": "stdout",
     "output_type": "stream",
     "text": [
      "array is [1 2 3 4]\n",
      "[ 0  1  2  3  4  5  6  7  8  9 10 11]\n"
     ]
    }
   ],
   "source": [
    "# 1.import numpy library as np:\n",
    "import numpy as np\n",
    "arr=np.array([1,2,3,4])\n",
    "print(\"array is\",arr)\n",
    "\n",
    "arr1=np.arange(12)\n",
    "print(arr1)"
   ]
  },
  {
   "cell_type": "code",
   "execution_count": 10,
   "id": "0322f0f0-f9bb-4c91-9f4f-a3d1b5b8ac43",
   "metadata": {},
   "outputs": [
    {
     "name": "stdout",
     "output_type": "stream",
     "text": [
      "list: [1, 2, 3, 4, 7, 9]\n",
      "array: [1 2 3 4 7 9]\n"
     ]
    }
   ],
   "source": [
    "# 2. convert the given list to a numpy array:\n",
    "import numpy as np\n",
    "lst=[1,2,3,4,7,9]\n",
    "arr=np.array(lst)\n",
    "print(\"list:\",lst)\n",
    "print(\"array:\",arr)      "
   ]
  },
  {
   "cell_type": "code",
   "execution_count": 17,
   "id": "3200a14f-7eed-442f-ab0d-4b6c1b750704",
   "metadata": {},
   "outputs": [
    {
     "data": {
      "text/plain": [
       "array([1., 1., 1., 1., 1.])"
      ]
     },
     "execution_count": 17,
     "metadata": {},
     "output_type": "execute_result"
    }
   ],
   "source": [
    "#3.create an array with five 1's:\n",
    "x=np.array([1.,1.,1.,1.,1.,])\n",
    "x"
   ]
  },
  {
   "cell_type": "code",
   "execution_count": 29,
   "id": "e6bf5324-e560-4311-ab44-3b3745e9240b",
   "metadata": {},
   "outputs": [
    {
     "name": "stdout",
     "output_type": "stream",
     "text": [
      "[[1. 1. 1. 1.]\n",
      " [1. 1. 1. 1.]]\n"
     ]
    }
   ],
   "source": [
    "# 4. create an array of size 2x3 with 1's(s rows,2 columns)and assign it to a variable:\n",
    "array_2x3=np.ones((2,3))\n",
    "print(array_2x3)"
   ]
  },
  {
   "cell_type": "code",
   "execution_count": null,
   "id": "99aef278-c159-46b2-aac2-95699ab3a4c3",
   "metadata": {},
   "outputs": [],
   "source": [
    "# 4(a). using the variable you have created,change the datatype of the array to int"
   ]
  },
  {
   "cell_type": "code",
   "execution_count": 31,
   "id": "f0900100-4bad-47e3-b2ba-668d136a0f27",
   "metadata": {},
   "outputs": [
    {
     "name": "stdout",
     "output_type": "stream",
     "text": [
      "[[1 1 1 1]\n",
      " [1 1 1 1]]\n"
     ]
    }
   ],
   "source": [
    "array_2x3_int=array_2x3.astype(int)\n",
    "print(array_2x3_int)"
   ]
  },
  {
   "cell_type": "code",
   "execution_count": 23,
   "id": "2c58d767-bb47-49b8-8280-1bd907631335",
   "metadata": {},
   "outputs": [
    {
     "name": "stdout",
     "output_type": "stream",
     "text": [
      "[[4. 0. 0.]\n",
      " [0. 4. 0.]\n",
      " [0. 0. 4.]]\n",
      "------------------------------\n",
      "[[1. 0. 0.]\n",
      " [0. 1. 0.]\n",
      " [0. 0. 1.]]\n",
      "------------------------------\n",
      "[[4. 0. 0.]\n",
      " [0. 4. 0.]\n",
      " [0. 0. 4.]]\n"
     ]
    }
   ],
   "source": [
    "#5. create an array of size 3x3 with 4's on he diagonal:\n",
    "import numpy as np\n",
    "array=np.diag([4.,4.,4.])\n",
    "print(array)\n",
    "print('--'*15)\n",
    "k=np.eye(3,3)\n",
    "print(k)\n",
    "print('--'*15)\n",
    "np.fill_diagonal(k,4)\n",
    "print(k)"
   ]
  },
  {
   "cell_type": "code",
   "execution_count": 27,
   "id": "5fdc4b98-8572-4ba8-bc48-f9272eadaef4",
   "metadata": {},
   "outputs": [
    {
     "name": "stdout",
     "output_type": "stream",
     "text": [
      "[0 1 2 3 4 5 6 7 8 9]\n"
     ]
    }
   ],
   "source": [
    "#6.create an array from 0 upto 10(10not inculded):\n",
    "array=np.arange(0,10)\n",
    "print(array)"
   ]
  },
  {
   "cell_type": "code",
   "execution_count": 29,
   "id": "5fd751ea-15c1-4e5b-9f00-7a962f448811",
   "metadata": {},
   "outputs": [
    {
     "name": "stdout",
     "output_type": "stream",
     "text": [
      "[12, 14, 16, 18, 20, 22, 24]\n"
     ]
    }
   ],
   "source": [
    "#6(a) create an array in range from 12 to 26 using every second number:\n",
    "#start valur 12\n",
    "#end value 26 \n",
    "array=list(range(12,26,2))\n",
    "print(array)"
   ]
  },
  {
   "cell_type": "code",
   "execution_count": 31,
   "id": "48d3c8aa-d5a1-403d-a587-bbe766728f75",
   "metadata": {},
   "outputs": [
    {
     "name": "stdout",
     "output_type": "stream",
     "text": [
      "[2.   2.25 2.5  2.75 3.   3.25 3.5  3.75 4.  ]\n"
     ]
    }
   ],
   "source": [
    "#7. create an array between 2 and 4 with 8 equal spaces:\n",
    "start = 2\n",
    "end = 4\n",
    "array=np.linspace(start,end,9)\n",
    "print(array)"
   ]
  },
  {
   "cell_type": "code",
   "execution_count": 41,
   "id": "bf1e963b-ce3e-4c55-a122-57dfd9052d5c",
   "metadata": {},
   "outputs": [
    {
     "name": "stdout",
     "output_type": "stream",
     "text": [
      "3\n"
     ]
    }
   ],
   "source": [
    "#8,9.imort random module from numpy as rd:\n",
    "import numpy.random as rd\n",
    "from numpy import random\n",
    "array=random.choice([1,2,3,4,5])\n",
    "print(array)"
   ]
  },
  {
   "cell_type": "code",
   "execution_count": 59,
   "id": "c129ae29-8d6d-4f6c-9dcc-288ec09b4699",
   "metadata": {},
   "outputs": [
    {
     "name": "stdout",
     "output_type": "stream",
     "text": [
      "[[8 2 6 2 8]\n",
      " [8 6 6 4 4]\n",
      " [6 6 4 2 8]]\n"
     ]
    }
   ],
   "source": [
    "#10. create a random array of size 3x5 with values between 0-10:\n",
    "array=random.choice([2,4,6,8],size=(3,5))\n",
    " print(array)"
   ]
  },
  {
   "cell_type": "code",
   "execution_count": 3,
   "id": "ba3b148d-274e-4e0a-9d64-43931e42ca55",
   "metadata": {},
   "outputs": [
    {
     "name": "stdout",
     "output_type": "stream",
     "text": [
      "[[16  0  0]\n",
      " [ 0 16  0]\n",
      " [ 0  0 16]]\n"
     ]
    }
   ],
   "source": [
    "#11. take square of the array we have just created in no .10:\n",
    "import numpy as np\n",
    "array=np.diag([4,4,4])\n",
    "squared_array=array**2\n",
    "print(squared_array)"
   ]
  },
  {
   "cell_type": "code",
   "execution_count": 10,
   "id": "80665cfd-aad9-44e6-88b6-3ef70956e241",
   "metadata": {},
   "outputs": [
    {
     "ename": "SyntaxError",
     "evalue": "invalid syntax (1660840878.py, line 2)",
     "output_type": "error",
     "traceback": [
      "\u001b[1;36m  Cell \u001b[1;32mIn[10], line 2\u001b[1;36m\u001b[0m\n\u001b[1;33m    numpy.square():\u001b[0m\n\u001b[1;37m                  ^\u001b[0m\n\u001b[1;31mSyntaxError\u001b[0m\u001b[1;31m:\u001b[0m invalid syntax\n"
     ]
    }
   ],
   "source": []
  },
  {
   "cell_type": "code",
   "execution_count": null,
   "id": "3abe2dc3-eff4-4390-a504-88f3b4b268d5",
   "metadata": {},
   "outputs": [],
   "source": []
  },
  {
   "cell_type": "code",
   "execution_count": null,
   "id": "b5b18d03-0ded-4b47-9786-9576f1393ae9",
   "metadata": {},
   "outputs": [],
   "source": []
  }
 ],
 "metadata": {
  "kernelspec": {
   "display_name": "Python 3 (ipykernel)",
   "language": "python",
   "name": "python3"
  },
  "language_info": {
   "codemirror_mode": {
    "name": "ipython",
    "version": 3
   },
   "file_extension": ".py",
   "mimetype": "text/x-python",
   "name": "python",
   "nbconvert_exporter": "python",
   "pygments_lexer": "ipython3",
   "version": "3.12.4"
  }
 },
 "nbformat": 4,
 "nbformat_minor": 5
}
